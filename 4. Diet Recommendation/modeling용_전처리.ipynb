{
 "cells": [
  {
   "cell_type": "code",
   "execution_count": 0,
   "metadata": {
    "colab": {},
    "colab_type": "code",
    "id": "83nPcsejIGS-"
   },
   "outputs": [],
   "source": [
    "import pandas as pd\n",
    "import numpy as np"
   ]
  },
  {
   "cell_type": "code",
   "execution_count": 0,
   "metadata": {
    "colab": {},
    "colab_type": "code",
    "id": "JZtjB4jtIKFc"
   },
   "outputs": [],
   "source": [
    "healthy=pd.read_csv(\"7균형식단.csv\",encoding=\"utf-8-sig\",index_col=[0])\n",
    "unhealthy=pd.read_csv(\"fivetwo조합.csv\",encoding=\"utf-8-sig\",index_col=[0])"
   ]
  },
  {
   "cell_type": "code",
   "execution_count": 0,
   "metadata": {
    "colab": {},
    "colab_type": "code",
    "id": "ORurnRPkIKID"
   },
   "outputs": [],
   "source": [
    "def sampling_func(data):\n",
    "    N = len(data)\n",
    "    sample_n=5000 #5000개씩 뽑기\n",
    "    sample = data.take(np.random.permutation(N)[:sample_n])\n",
    "    return sample"
   ]
  },
  {
   "cell_type": "code",
   "execution_count": 0,
   "metadata": {
    "colab": {},
    "colab_type": "code",
    "id": "jmSLF2bHIKKc"
   },
   "outputs": [],
   "source": [
    "unhealthy=unhealthy[['칼로리(kcal)', '탄수화물(g)', '단백질(g)', '지방(g)', '비타민A(mg)', '티아민(mg)',\n",
    "       '리보플라빈(mg)', '비타민C(mg)', '칼슘(mg)', '철분(mg)']]"
   ]
  },
  {
   "cell_type": "code",
   "execution_count": 0,
   "metadata": {
    "colab": {},
    "colab_type": "code",
    "id": "B-TswbvuJewo"
   },
   "outputs": [],
   "source": [
    "b=sampling_func(healthy).iloc[:,1:]\n",
    "c=sampling_func(unhealthy)"
   ]
  },
  {
   "cell_type": "code",
   "execution_count": 6,
   "metadata": {
    "colab": {
     "base_uri": "https://localhost:8080/",
     "height": 181
    },
    "colab_type": "code",
    "id": "XrQVZdW2IKPg",
    "outputId": "62c7db2a-e643-4865-8d1d-36cc97920aa3"
   },
   "outputs": [
    {
     "name": "stderr",
     "output_type": "stream",
     "text": [
      "/usr/local/lib/python3.6/dist-packages/ipykernel_launcher.py:1: FutureWarning: Sorting because non-concatenation axis is not aligned. A future version\n",
      "of pandas will change to not sort by default.\n",
      "\n",
      "To accept the future behavior, pass 'sort=False'.\n",
      "\n",
      "To retain the current behavior and silence the warning, pass 'sort=True'.\n",
      "\n",
      "  \"\"\"Entry point for launching an IPython kernel.\n"
     ]
    }
   ],
   "source": [
    "a=pd.concat([sampling_func(healthy).iloc[:,1:],sampling_func(unhealthy)])"
   ]
  },
  {
   "cell_type": "code",
   "execution_count": 0,
   "metadata": {
    "colab": {},
    "colab_type": "code",
    "id": "jhAaBFrDIKVU"
   },
   "outputs": [],
   "source": [
    "a=a.sample(frac=1).reset_index(drop=True)\n",
    "train=a.iloc[:8000,:]\n",
    "test=a.iloc[8000:,:]"
   ]
  },
  {
   "cell_type": "code",
   "execution_count": 0,
   "metadata": {
    "colab": {},
    "colab_type": "code",
    "id": "GjFqN1zuHEw1"
   },
   "outputs": [],
   "source": [
    "test=test.reset_index(drop=True)"
   ]
  },
  {
   "cell_type": "code",
   "execution_count": 0,
   "metadata": {
    "colab": {},
    "colab_type": "code",
    "id": "M-ZKhV4FJ5-c"
   },
   "outputs": [],
   "source": [
    "train.to_csv(\"train data.csv\",encoding='utf-8-sig')\n",
    "test.to_csv(\"test data.csv\",encoding='utf-8-sig')"
   ]
  }
 ],
 "metadata": {
  "colab": {
   "collapsed_sections": [],
   "name": "modeling용 전처리.ipynb",
   "provenance": []
  },
  "kernelspec": {
   "display_name": "Python 3",
   "language": "python",
   "name": "python3"
  },
  "language_info": {
   "codemirror_mode": {
    "name": "ipython",
    "version": 3
   },
   "file_extension": ".py",
   "mimetype": "text/x-python",
   "name": "python",
   "nbconvert_exporter": "python",
   "pygments_lexer": "ipython3",
   "version": "3.7.3"
  }
 },
 "nbformat": 4,
 "nbformat_minor": 1
}
