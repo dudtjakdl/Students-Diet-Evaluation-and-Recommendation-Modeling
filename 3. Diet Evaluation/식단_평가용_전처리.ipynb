{
 "cells": [
  {
   "cell_type": "code",
   "execution_count": 0,
   "metadata": {
    "colab": {},
    "colab_type": "code",
    "id": "tzQT530gDHaZ"
   },
   "outputs": [],
   "source": [
    "import pandas as pd\n",
    "import numpy as np"
   ]
  },
  {
   "cell_type": "markdown",
   "metadata": {
    "colab_type": "text",
    "id": "ASqXon8sE_dW"
   },
   "source": [
    "### **식단과 인체 조합 만들기**"
   ]
  },
  {
   "cell_type": "markdown",
   "metadata": {
    "colab_type": "text",
    "id": "JxB4tE1aFOlL"
   },
   "source": [
    "1) 일주일 식단 조합"
   ]
  },
  {
   "cell_type": "code",
   "execution_count": 0,
   "metadata": {
    "colab": {},
    "colab_type": "code",
    "id": "qFzcfvJVW3Zy"
   },
   "outputs": [],
   "source": [
    "def sampling_func(data):\n",
    "    N = len(data)\n",
    "    sample_n=1404 # 1404개 뽑기 (학생 수)\n",
    "    sample = data.take(np.random.permutation(N)[:sample_n])\n",
    "    return sample"
   ]
  },
  {
   "cell_type": "code",
   "execution_count": 0,
   "metadata": {
    "colab": {},
    "colab_type": "code",
    "id": "4fQOUM6zRCYy"
   },
   "outputs": [],
   "source": [
    "h=pd.read_csv(\"인체치수 최종본.csv\",encoding='utf-8-sig',engine=\"python\",index_col=[0])\n",
    "a=pd.read_csv(\"일주일 식단.csv\",encoding='utf-8-sig',engine=\"python\",index_col=[0])\n",
    "f=pd.DataFrame(0,columns=a.columns,index=[0])"
   ]
  },
  {
   "cell_type": "code",
   "execution_count": 4,
   "metadata": {
    "colab": {
     "base_uri": "https://localhost:8080/",
     "height": 161
    },
    "colab_type": "code",
    "id": "6fJj-awgacVn",
    "outputId": "ef8d22c6-b761-46a8-d3ec-78e8d046ca88"
   },
   "outputs": [
    {
     "name": "stderr",
     "output_type": "stream",
     "text": [
      "/usr/local/lib/python3.6/dist-packages/ipykernel_launcher.py:7: FutureWarning: Sorting because non-concatenation axis is not aligned. A future version\n",
      "of pandas will change to not sort by default.\n",
      "\n",
      "To accept the future behavior, pass 'sort=False'.\n",
      "\n",
      "To retain the current behavior and silence the warning, pass 'sort=True'.\n",
      "\n",
      "  import sys\n"
     ]
    }
   ],
   "source": [
    "for i in range(1,5002):\n",
    "  g=a[a['num']==i].iloc[:,3:].sum()\n",
    "  g=pd.DataFrame(g).T\n",
    "  g[\"num\"]=i\n",
    "  g[\"일주일 식단\"]=\"@@\".join(a[a['num']==i].iloc[:,1])\n",
    "  g[\"일주일 간식\"]=\"@@\".join(a[a['num']==i].iloc[:,2])\n",
    "  f=pd.concat([f,g])"
   ]
  },
  {
   "cell_type": "code",
   "execution_count": 0,
   "metadata": {
    "colab": {},
    "colab_type": "code",
    "id": "toS2JKwYacbk"
   },
   "outputs": [],
   "source": [
    "f=f.reset_index(drop=True)\n",
    "f=f[1:]\n",
    "sample=sampling_func(f)\n",
    "sample=sample.reset_index(drop=True)"
   ]
  },
  {
   "cell_type": "code",
   "execution_count": 0,
   "metadata": {
    "colab": {},
    "colab_type": "code",
    "id": "e6WOhPlRRCmW"
   },
   "outputs": [],
   "source": [
    "week=sample.num"
   ]
  },
  {
   "cell_type": "code",
   "execution_count": 0,
   "metadata": {
    "colab": {},
    "colab_type": "code",
    "id": "dlK24lqcRCCt"
   },
   "outputs": [],
   "source": [
    "g=pd.concat([h,sample],axis=1)"
   ]
  },
  {
   "cell_type": "code",
   "execution_count": 0,
   "metadata": {
    "colab": {},
    "colab_type": "code",
    "id": "U_zto5RY8Fo8"
   },
   "outputs": [],
   "source": [
    "# 열이름 바꾸기\n",
    "g.columns=['성별', '골격근량', '체지방량', 'BMI', '체지방율', '복부지방율', '몸무게', '나이', '키', '기초대사량', '탄수화물', '단백질', '지방', \n",
    "           '비타민A', '티아민', '리보플라빈', '비타민C', '칼슘', '철분', '알레르기', '1.난류', '10.돼지고기', '11.복숭아', '12.토마토', \n",
    "           '13.아황산염', '14.호두', '15.닭고기', '16.쇠고기', '17.오징어', '18.조개류(굴,전복,홍합 등)', '2.우유', '3.메밀', '4.땅콩', '5.대두', \n",
    "           '6.밀', '7.고등어', '8.게', '9.새우', 'num', '간식', '나트륨(mg)', '당류(g)', '리보플라빈(mg)', '비타민A(mg)', '비타민C(mg)', \n",
    "           '식단', '일주일 간식', '일주일 식단', '철분(mg)', '총 단백질(g)', '총 열량(kcal)', '총 지방(g)', '총 탄수화물(g)', '칼로리(Kcal)', \n",
    "           '칼슘(mg)', '티아민(mg)', '포화지방산(g)']\n",
    "# 열 순서 바꾸기\n",
    "g=g[['성별', '골격근량', '체지방량', 'BMI', '체지방율', '복부지방율', '몸무게', '나이', '키', '기초대사량', '탄수화물', '단백질', '지방',\n",
    "     '비타민A', '티아민', '리보플라빈', '비타민C', '칼슘', '철분', '알레르기', '일주일 간식', '일주일 식단','총 열량(kcal)','총 탄수화물(g)',\n",
    "     '총 단백질(g)','총 지방(g)', '비타민A(mg)', '티아민(mg)', '리보플라빈(mg)', '비타민C(mg)', '칼슘(mg)', '철분(mg)', '나트륨(mg)', '당류(g)', \n",
    "     '포화지방산(g)','1.난류', '2.우유', '3.메밀', '4.땅콩', '5.대두', '6.밀', '7.고등어', '8.게', '9.새우', '10.돼지고기', '11.복숭아', '12.토마토', \n",
    "     '13.아황산염', '14.호두', '15.닭고기', '16.쇠고기', '17.오징어', '18.조개류(굴,전복,홍합 등)',]]"
   ]
  },
  {
   "cell_type": "code",
   "execution_count": 0,
   "metadata": {
    "colab": {},
    "colab_type": "code",
    "id": "WBdYzakBXMD_"
   },
   "outputs": [],
   "source": [
    "g.to_csv(\"신체식단조합.csv\",encoding=\"utf-8-sig\")"
   ]
  },
  {
   "cell_type": "markdown",
   "metadata": {
    "colab_type": "text",
    "id": "iywYc2wzEsEt"
   },
   "source": [
    "2) 하루하루 식단과 신체 조합"
   ]
  },
  {
   "cell_type": "code",
   "execution_count": 0,
   "metadata": {
    "colab": {},
    "colab_type": "code",
    "id": "KQxWZdtSXMHQ"
   },
   "outputs": [],
   "source": [
    "week=week.tolist()"
   ]
  },
  {
   "cell_type": "code",
   "execution_count": 0,
   "metadata": {
    "colab": {},
    "colab_type": "code",
    "id": "z3CnArvkEqtM"
   },
   "outputs": [],
   "source": [
    "row=[]\n",
    "for j in range(len(a)):\n",
    "  if a.iloc[j,0] in week:\n",
    "    row.append(a.iloc[j])"
   ]
  },
  {
   "cell_type": "code",
   "execution_count": 0,
   "metadata": {
    "colab": {},
    "colab_type": "code",
    "id": "C14Kr2QXEqyi"
   },
   "outputs": [],
   "source": [
    "everyday=pd.DataFrame(row)\n",
    "everyday=everyday.reset_index(drop=True)"
   ]
  },
  {
   "cell_type": "code",
   "execution_count": 0,
   "metadata": {
    "colab": {},
    "colab_type": "code",
    "id": "WPMohqaZHbcN"
   },
   "outputs": [],
   "source": [
    "k=pd.DataFrame(pd.np.repeat(h.values,7,axis=0),columns=h.columns)"
   ]
  },
  {
   "cell_type": "code",
   "execution_count": 0,
   "metadata": {
    "colab": {},
    "colab_type": "code",
    "id": "RlXaDpYOHbfN"
   },
   "outputs": [],
   "source": [
    "everyday2=pd.concat([k,everyday],axis=1)"
   ]
  },
  {
   "cell_type": "code",
   "execution_count": 0,
   "metadata": {
    "colab": {},
    "colab_type": "code",
    "id": "8jkxswFxM96P"
   },
   "outputs": [],
   "source": [
    "everyday2.columns=['성별', '골격근량', '체지방량', 'BMI', '체지방율', '복부지방율', '몸무게', '나이', '키', '기초대사량',\n",
    "       '탄수화물', '단백질', '지방', '비타민A', '티아민', '리보플라빈', '비타민C', '칼슘', '철분', '알레르기',\n",
    "       'num', '하루 식단', '하루 간식', '칼로리(Kcal)', '총 열량(kcal)', '총 탄수화물(g)', '총 단백질(g)',\n",
    "       '총 지방(g)', '비타민A(mg)', '티아민(mg)', '리보플라빈(mg)', '비타민C(mg)', '칼슘(mg)',\n",
    "       '철분(mg)', '당류(g)', '나트륨(mg)', '포화지방산(g)', '1.난류', '2.우유', '3.메밀',\n",
    "       '4.땅콩', '5.대두', '6.밀', '7.고등어', '8.게', '9.새우', '10.돼지고기', '11.복숭아',\n",
    "       '12.토마토', '13.아황산염', '14.호두', '15.닭고기', '16.쇠고기', '17.오징어',\n",
    "       '18.조개류(굴,전복,홍합 등)']"
   ]
  },
  {
   "cell_type": "code",
   "execution_count": 0,
   "metadata": {
    "colab": {},
    "colab_type": "code",
    "id": "Q9pl5BBFHbiK"
   },
   "outputs": [],
   "source": [
    "everyday2=everyday2[['성별', '골격근량', '체지방량', 'BMI', '체지방율', '복부지방율', '몸무게', '나이', '키', '기초대사량',\n",
    "      '탄수화물', '단백질', '지방', '비타민A', '티아민', '리보플라빈', '비타민C', '칼슘', '철분', '알레르기',\n",
    "      '하루 식단', '하루 간식','총 열량(kcal)','총 탄수화물(g)','총 단백질(g)','총 지방(g)', '비타민A(mg)', '티아민(mg)', '리보플라빈(mg)', '비타민C(mg)',\n",
    "      '칼슘(mg)', '철분(mg)', '나트륨(mg)', '당류(g)', '포화지방산(g)','1.난류', '2.우유', '3.메밀', '4.땅콩', '5.대두', '6.밀', '7.고등어', '8.게', '9.새우', '10.돼지고기', \n",
    "      '11.복숭아', '12.토마토', '13.아황산염', '14.호두', '15.닭고기', '16.쇠고기', '17.오징어', '18.조개류(굴,전복,홍합 등)',]]"
   ]
  },
  {
   "cell_type": "code",
   "execution_count": 0,
   "metadata": {
    "colab": {},
    "colab_type": "code",
    "id": "tw-u8U8tEq2x"
   },
   "outputs": [],
   "source": [
    "everyday2.to_csv(\"신체식단조합(하루).csv\",encoding=\"utf-8-sig\")"
   ]
  }
 ],
 "metadata": {
  "colab": {
   "collapsed_sections": [],
   "name": "식단_평가용_전처리.ipynb",
   "provenance": [],
   "toc_visible": true
  },
  "kernelspec": {
   "display_name": "Python 3",
   "language": "python",
   "name": "python3"
  },
  "language_info": {
   "codemirror_mode": {
    "name": "ipython",
    "version": 3
   },
   "file_extension": ".py",
   "mimetype": "text/x-python",
   "name": "python",
   "nbconvert_exporter": "python",
   "pygments_lexer": "ipython3",
   "version": "3.7.3"
  }
 },
 "nbformat": 4,
 "nbformat_minor": 1
}
