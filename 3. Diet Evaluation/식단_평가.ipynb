{
  "nbformat": 4,
  "nbformat_minor": 0,
  "metadata": {
    "colab": {
      "name": "식단_평가.ipynb",
      "provenance": [],
      "collapsed_sections": [],
      "toc_visible": true
    },
    "kernelspec": {
      "name": "python3",
      "display_name": "Python 3"
    }
  },
  "cells": [
    {
      "cell_type": "code",
      "metadata": {
        "id": "KUsE9jsOOIxt",
        "colab_type": "code",
        "colab": {}
      },
      "source": [
        "import pandas as pd\n",
        "import numpy as np"
      ],
      "execution_count": 0,
      "outputs": []
    },
    {
      "cell_type": "markdown",
      "metadata": {
        "id": "qeE--33y8ZEI",
        "colab_type": "text"
      },
      "source": [
        "## 식단 하루 평가"
      ]
    },
    {
      "cell_type": "code",
      "metadata": {
        "id": "0jzTounBOLNS",
        "colab_type": "code",
        "colab": {}
      },
      "source": [
        "data=pd.read_csv(\"신체식단조합(하루).csv\",encoding='utf-8-sig',index_col=[0])"
      ],
      "execution_count": 0,
      "outputs": []
    },
    {
      "cell_type": "code",
      "metadata": {
        "id": "SbwfoVcfsAFW",
        "colab_type": "code",
        "colab": {}
      },
      "source": [
        "data[\"알레르기\"]=data[\"알레르기\"].fillna(0)\n",
        "allergy={1:\"난류\", 2:\"우유\", 3:\"메밀\", 4:'땅콩', 5:'대두', 6:'밀', 7:'고등어', 8:'게', 9:'새우', 10:'돼지고기', 11:'복숭아', 12:'토마토', 13:'아황산염',\n",
        "         14:'호두', 15:'닭고기',16:'쇠고기', 17:'오징어', 18:'조개류(굴,전복,홍합 등)'}"
      ],
      "execution_count": 0,
      "outputs": []
    },
    {
      "cell_type": "code",
      "metadata": {
        "id": "gd3YkKPgOLQR",
        "colab_type": "code",
        "colab": {}
      },
      "source": [
        "def get_info_daybyday(index):\n",
        "    result_list=[]\n",
        "    iteration=10 # 10개의 권장량 비교\n",
        "    info=['기초대사량','탄수화물','단백질','지방','비타민A','티아민','리보플라빈','비타민C','칼슘','철분']\n",
        "    measure=['kcal','g','g','g','mg','mg','mg','mg','mg','mg']\n",
        "    for i in range(iteration):\n",
        "        value=data.iloc[index,(i+9)]\n",
        "        value1=value*0.95 # -5% 허용범위\n",
        "        value2=value*1.05 # +5% 허용범위\n",
        "        stand=data.iloc[index,(i+22)] #비교 대상\n",
        "        \n",
        "        if stand<value1:#덜먹은 것 \n",
        "            string=info[i]+'을 '+str(round(value-stand,2))+measure[i]+' 만큼을 더 먹으세요'\n",
        "            result_list.append(string)\n",
        "        elif stand>value2:#더 먹음\n",
        "            string=info[i]+'을 '+str(round(stand-value,2))+measure[i]+' 만큼을 덜 먹으세요'\n",
        "            result_list.append(string)\n",
        "        else:\n",
        "            string=info[i]+'은(는) 이 식습관 유지하세요'\n",
        "            result_list.append(string)\n",
        "\n",
        "    if data.loc[index,'나트륨(mg)']>300: \n",
        "      result_list.append('나트륨(mg)을 '+str(round(data.loc[index,'나트륨(mg)']-300,2))+' 만큼  덜드세요')\n",
        "    if data.loc[index,'당류(g)']>20:\n",
        "      result_list.append('당류(g)를 '+str(round(data.loc[index,'당류(g)']-20,2))+' 만큼  덜드세요')\n",
        "    if data.loc[index,'포화지방산(g)']>12:\n",
        "      result_list.append('포화지방산(g)을 '+str(round(data.loc[index,'포화지방산(g)']-12,2))+' 만큼  덜드세요')\n",
        "\n",
        "    if data.loc[index,\"알레르기\"] !=0:\n",
        "      idx=index\n",
        "      idx2=data.loc[idx,\"알레르기\"].split(\",\")\n",
        "      column=[]\n",
        "      alnum=[]\n",
        "      allergyname=[]\n",
        "      for i in range(18):\n",
        "        if data.iloc[idx,35+i] != 0:\n",
        "          column.append(data.columns[35+i])\n",
        "      for j in range(len(idx2)):\n",
        "        for k in range(len(column)):\n",
        "          if idx2[j] in column[k]:\n",
        "            alnum.append(idx2[j])\n",
        "      for i in alnum:\n",
        "        allergyname.append(allergy[int(i)])\n",
        "      allergyname=list(set(allergyname))\n",
        "      if allergyname != []:\n",
        "        result_list.append(\"알레르기를 유발하는 음식을 먹었어요 : \"+\", \".join(allergyname))\n",
        "  \n",
        "    totalstring=\", \".join(result_list)\n",
        "\n",
        "    return totalstring"
      ],
      "execution_count": 0,
      "outputs": []
    },
    {
      "cell_type": "code",
      "metadata": {
        "id": "xU7iQBiXjPdF",
        "colab_type": "code",
        "colab": {}
      },
      "source": [
        "totaldbd=[] #최종결과는 이중리스트 형태\n",
        "for i in range(len(data)):\n",
        "    totaldbd.append(get_info_daybyday(i))"
      ],
      "execution_count": 0,
      "outputs": []
    },
    {
      "cell_type": "code",
      "metadata": {
        "id": "Zrapp0Qqe-Gf",
        "colab_type": "code",
        "colab": {}
      },
      "source": [
        "data[\"평가결과\"]=totaldbd"
      ],
      "execution_count": 0,
      "outputs": []
    },
    {
      "cell_type": "code",
      "metadata": {
        "id": "1beGv0KDxluu",
        "colab_type": "code",
        "colab": {}
      },
      "source": [
        "data.to_csv(\"하루평가.csv\",encoding=\"utf-8-sig\")"
      ],
      "execution_count": 0,
      "outputs": []
    },
    {
      "cell_type": "markdown",
      "metadata": {
        "id": "H3iMCupK8T8n",
        "colab_type": "text"
      },
      "source": [
        "## 식단 총 평가"
      ]
    },
    {
      "cell_type": "code",
      "metadata": {
        "id": "9B7Smj7o8Qmm",
        "colab_type": "code",
        "colab": {}
      },
      "source": [
        "df1=pd.read_csv('신체식단조합.csv',sep=',',encoding='utf-8-sig',engine='python',index_col=[0])"
      ],
      "execution_count": 0,
      "outputs": []
    },
    {
      "cell_type": "code",
      "metadata": {
        "id": "z6Jcn1238Qjf",
        "colab_type": "code",
        "colab": {}
      },
      "source": [
        "def get_info(index):\n",
        "    result_list=[]\n",
        "    iteration=10 # 10개의 권장량 비교\n",
        "    info=['기초대사량','탄수화물','단백질','지방','비타민A','티아민','리보플라빈','비타민C','칼슘','철분']\n",
        "    measure=['kcal','g','g','g','mg','mg','mg','mg','mg','mg']\n",
        "    for i in range(iteration):\n",
        "        value=df1.iloc[index,(i+9)]*7\n",
        "        value1=value*0.95 # -5% 허용범위\n",
        "        value2=value*1.05 # +5% 허용범위\n",
        "        stand=df1.iloc[index,(i+22)] #비교 대상\n",
        "        \n",
        "        if stand<value1:#덜먹은 것 \n",
        "            string=info[i]+'을 '+str(round(value-stand,2))+measure[i]+' 만큼을 더 드세요'\n",
        "            result_list.append(string)\n",
        "        elif stand>value2:#더 먹음\n",
        "            string=info[i]+'을 '+str(round(stand-value,2))+measure[i]+' 만큼을 덜 드세요'\n",
        "            result_list.append(string)\n",
        "        else:\n",
        "            string=info[i]+'은(는) 이 식습관 유지하세요'\n",
        "            result_list.append(string)\n",
        "\n",
        "    if df1.loc[index,'나트륨(mg)']>300*7: \n",
        "        a='나트륨(mg)을 '+str(round(df1.loc[index,'나트륨(mg)']-300,2))+' 만큼  덜드세요'\n",
        "        result_list.append(a)\n",
        "    if df1.loc[index,'당류(g)']>20*7:\n",
        "        b='당류(g)를 '+str(round(df1.loc[index,'당류(g)']-20,2))+' 만큼  덜드세요'\n",
        "        result_list.append(b)\n",
        "    if df1.loc[index,'포화지방산(g)']>12*7:\n",
        "        c='포화지방산(g)을 '+str(round(df1.loc[index,'포화지방산(g)']-12,2))+' 만큼  덜드세요'\n",
        "        result_list.append(c)\n",
        "    \n",
        "    totalstring=\", \".join(result_list)\n",
        "\n",
        "    return totalstring"
      ],
      "execution_count": 0,
      "outputs": []
    },
    {
      "cell_type": "code",
      "metadata": {
        "id": "UTyHPBD48Qeo",
        "colab_type": "code",
        "colab": {}
      },
      "source": [
        "total=[] #최종결과는 이중리스트 형태\n",
        "for i in range(len(df1)):\n",
        "    total.append(get_info(i))"
      ],
      "execution_count": 0,
      "outputs": []
    },
    {
      "cell_type": "code",
      "metadata": {
        "id": "WgsUWvLt8Qbw",
        "colab_type": "code",
        "colab": {}
      },
      "source": [
        "df1['평가결과']=total"
      ],
      "execution_count": 0,
      "outputs": []
    },
    {
      "cell_type": "code",
      "metadata": {
        "id": "Ami-5nqt8QYu",
        "colab_type": "code",
        "colab": {}
      },
      "source": [
        "data.to_csv(\"일주일총평가.csv\",encoding=\"utf-8-sig\")"
      ],
      "execution_count": 0,
      "outputs": []
    }
  ]
}