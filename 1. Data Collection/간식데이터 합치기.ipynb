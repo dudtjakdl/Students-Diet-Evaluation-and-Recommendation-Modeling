{
 "cells": [
  {
   "cell_type": "code",
   "execution_count": 1,
   "metadata": {},
   "outputs": [],
   "source": [
    "import pandas as pd\n",
    "from glob import glob\n",
    "\n",
    "# 간식 데이터 엑셀 raw 파일 8개 하나로 합치기\n",
    "snack_data_files = glob('간식 데이터/간식 데이터*xls')\n",
    "\n",
    "tmp_raw = []                   ## 엑셀 파일에서 값 읽어서 tmp_raw에 저장\n",
    "\n",
    "for file_name in snack_data_files:\n",
    "    tmp = pd.read_excel(file_name, header=0)\n",
    "    tmp_raw.append(tmp)\n",
    "    \n",
    "snack_data = pd.concat(tmp_raw)   ##  pandas DataFrame으로 모든 엑셀 파일의 정보를 묶음"
   ]
  },
  {
   "cell_type": "code",
   "execution_count": 2,
   "metadata": {},
   "outputs": [],
   "source": [
    "snack_data.to_csv(\"간식 데이터.csv\",encoding=\"utf-8-sig\")"
   ]
  },
  {
   "cell_type": "code",
   "execution_count": null,
   "metadata": {},
   "outputs": [],
   "source": []
  }
 ],
 "metadata": {
  "kernelspec": {
   "display_name": "Python 3",
   "language": "python",
   "name": "python3"
  },
  "language_info": {
   "codemirror_mode": {
    "name": "ipython",
    "version": 3
   },
   "file_extension": ".py",
   "mimetype": "text/x-python",
   "name": "python",
   "nbconvert_exporter": "python",
   "pygments_lexer": "ipython3",
   "version": "3.7.1"
  }
 },
 "nbformat": 4,
 "nbformat_minor": 2
}
