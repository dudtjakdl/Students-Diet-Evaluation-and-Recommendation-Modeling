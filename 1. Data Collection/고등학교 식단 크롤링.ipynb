{
 "cells": [
  {
   "cell_type": "code",
   "execution_count": 16,
   "metadata": {},
   "outputs": [],
   "source": [
    "from selenium import webdriver\n",
    "from bs4 import BeautifulSoup\n",
    "\n",
    "driver = webdriver.Chrome('../driver/chromedriver')\n",
    "driver.get(\"https://open.neis.go.kr/portal/data/service/selectServicePage.do?page=1&rows=10&sortColumn=&sortDirection=&infId=OPEN17320190722180924242823&infSeq=1\")\n",
    "\n",
    "office_list_raw = driver.find_element_by_xpath(\"\"\"//*[@id=\"sheet-filter-ATPT_OFCDC_SC_CODE\"]\"\"\")\n",
    "office_list = office_list_raw.find_elements_by_tag_name(\"option\") \n",
    "\n",
    "office_names = [option.text for option in office_list] # 시도교육청코드 문자열 가져오기\n",
    "del office_names[0] #'(필수)선택하세요' 항목 삭제\n",
    "\n",
    "import time\n",
    "from tqdm import tqdm_notebook\n",
    "from selenium.webdriver.common.alert import Alert\n",
    "\n",
    "alert = Alert(driver)\n",
    "\n",
    "school_names = driver.find_element_by_xpath(\"\"\"//*[@id=\"sheet-filter-SCHUL_NM\"]\"\"\")\n",
    "school_names.send_keys(\"고등학교\") # 학교명에 '고등학교' 입력\n",
    "\n",
    "# 각 시도교육청 선택하여 데이터 검색 후 csv 파일 다운받기\n",
    "for office in tqdm_notebook(office_names):\n",
    "    element = driver.find_element_by_id(\"sheet-filter-ATPT_OFCDC_SC_CODE\")\n",
    "    element.send_keys(office)\n",
    "        \n",
    "    driver.find_element_by_xpath(\"\"\"//*[@id=\"sheet-search-button\"]\"\"\").click()\n",
    "    \n",
    "    time.sleep(3)\n",
    "\n",
    "    driver.find_element_by_xpath(\"\"\"//*[@id=\"sheet-csv-button\"]\"\"\").click()\n",
    "    \n",
    "    alert.accept()\n",
    "    \n",
    "    time.sleep(5)\n",
    "    \n",
    "driver.close()\n",
    "\n",
    "#각 시도교욱청 17개의 csv파일 하나로 합치기\n",
    "import pandas as pd\n",
    "from glob import glob\n",
    "\n",
    "school_diet_files = glob('C:/Users/dudtj/Desktop/데이터마이닝분석/급식식단 데이터/급식식단정보*csv')\n",
    "\n",
    "tmp_raw = []                   ## 엑셀 파일에서 값 읽어서 tmp_raw에 저장\n",
    "\n",
    "for file_name in school_diet_files:\n",
    "    tmp = pd.read_csv(file_name, header=0)\n",
    "    tmp_raw.append(tmp)\n",
    "    \n",
    "school_diet_raw = pd.concat(tmp_raw)   ##  pandas DataFrame으로 모든 엑셀 파일의 정보를 묶음\n",
    "\n",
    "school_diet_raw.to_csv(\"급식식단 데이터.csv\", encoding = 'utf-8-sig')"
   ]
  },
  {
   "cell_type": "code",
   "execution_count": null,
   "metadata": {},
   "outputs": [],
   "source": []
  }
 ],
 "metadata": {
  "kernelspec": {
   "display_name": "Python 3",
   "language": "python",
   "name": "python3"
  },
  "language_info": {
   "codemirror_mode": {
    "name": "ipython",
    "version": 3
   },
   "file_extension": ".py",
   "mimetype": "text/x-python",
   "name": "python",
   "nbconvert_exporter": "python",
   "pygments_lexer": "ipython3",
   "version": "3.7.3"
  }
 },
 "nbformat": 4,
 "nbformat_minor": 2
}
