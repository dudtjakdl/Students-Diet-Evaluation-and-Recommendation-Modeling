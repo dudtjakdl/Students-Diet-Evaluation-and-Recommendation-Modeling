{
  "nbformat": 4,
  "nbformat_minor": 0,
  "metadata": {
    "kernelspec": {
      "display_name": "Python 3",
      "language": "python",
      "name": "python3"
    },
    "language_info": {
      "codemirror_mode": {
        "name": "ipython",
        "version": 3
      },
      "file_extension": ".py",
      "mimetype": "text/x-python",
      "name": "python",
      "nbconvert_exporter": "python",
      "pygments_lexer": "ipython3",
      "version": "3.7.1"
    },
    "colab": {
      "name": "일주일 식단.ipynb",
      "provenance": [],
      "collapsed_sections": [],
      "toc_visible": true
    }
  },
  "cells": [
    {
      "cell_type": "code",
      "metadata": {
        "id": "OlMGmT3ME51G",
        "colab_type": "code",
        "colab": {}
      },
      "source": [
        "import pandas as pd\n",
        "import numpy as np\n",
        "\n",
        "df1=pd.read_csv('삼식이.csv',sep=',',encoding='utf-8-sig',engine=\"python\", index_col=[0]) # 삼식이\n",
        "df2=pd.read_csv('일이식이.csv',sep=',',encoding='utf-8-sig',engine=\"python\", index_col=[0]) # 일이식이"
      ],
      "execution_count": 0,
      "outputs": []
    },
    {
      "cell_type": "code",
      "metadata": {
        "id": "6iS-GXGtE51i",
        "colab_type": "code",
        "colab": {}
      },
      "source": [
        "df1['class']='규칙'\n",
        "df1=df1[:54693] # df2 개수 만큼 슬라이싱\n",
        "df2['class']='불규칙'\n",
        "df3=pd.concat([df1,df2],ignore_index=True) # 규칙, 불규칙 합치기 "
      ],
      "execution_count": 0,
      "outputs": []
    },
    {
      "cell_type": "code",
      "metadata": {
        "id": "03MVPqCFE511",
        "colab_type": "code",
        "colab": {}
      },
      "source": [
        "def sampling_func(data):\n",
        "    N = len(data)\n",
        "    sample_n=5 #5개씩 뽑기\n",
        "    sample = data.take(np.random.permutation(N)[:sample_n])\n",
        "    return sample"
      ],
      "execution_count": 0,
      "outputs": []
    },
    {
      "cell_type": "code",
      "metadata": {
        "collapsed": true,
        "id": "mLBMqHUgE517",
        "colab_type": "code",
        "colab": {}
      },
      "source": [
        "df4= df3.groupby('class', group_keys=False).apply(sampling_func)\n",
        "df4['num']=1\n",
        "df4['sort']=np.arange(10)\n",
        "df4.sort_index()"
      ],
      "execution_count": 0,
      "outputs": []
    },
    {
      "cell_type": "code",
      "metadata": {
        "id": "Z9d0c-1yE52E",
        "colab_type": "code",
        "colab": {}
      },
      "source": [
        "df3=df3.drop(df3.index[df4.index])"
      ],
      "execution_count": 0,
      "outputs": []
    },
    {
      "cell_type": "code",
      "metadata": {
        "id": "_S6KyR4lE52J",
        "colab_type": "code",
        "colab": {}
      },
      "source": [
        "# 조합 5000개 뽑기\n",
        "for i in range(5000):\n",
        "    sample_set = df3.groupby('class', group_keys=False).apply(sampling_func)\n",
        "    sample_set['num']=(i+2)\n",
        "    sample_set['sort']=np.arange(10)\n",
        "    df4=pd.concat([df4,sample_set],ignore_index=True)    "
      ],
      "execution_count": 0,
      "outputs": []
    },
    {
      "cell_type": "code",
      "metadata": {
        "id": "Td-ZSTCLE52P",
        "colab_type": "code",
        "colab": {}
      },
      "source": [
        "index_num=df4[df4['sort']>=7].index\n",
        "df5=df4.drop(index_num)\n",
        "del df5['sort']\n",
        "df5.to_csv('five two.csv',sep=',',encoding='utf-8-sig')"
      ],
      "execution_count": 0,
      "outputs": []
    },
    {
      "cell_type": "markdown",
      "metadata": {
        "id": "ZAxx3Z50Mtc9",
        "colab_type": "text"
      },
      "source": [
        "## (5개 균형, 2개 불균형, 2개 간식) 식단"
      ]
    },
    {
      "cell_type": "code",
      "metadata": {
        "id": "kFBmLQBSMt3p",
        "colab_type": "code",
        "colab": {}
      },
      "source": [
        "shickdan=pd.read_csv(\"five two.csv\",encoding=\"utf-8-sig\")\n",
        "ganshick=pd.read_csv(\"간식 데이터 최종본.csv\",encoding=\"utf-8-sig\",engine='python',index_col=[0])\n",
        "ganshick=ganshick.drop(columns=['식품군'])\n",
        "shickdan=shickdan.drop(columns=[\"Unnamed: 0\"])"
      ],
      "execution_count": 0,
      "outputs": []
    },
    {
      "cell_type": "code",
      "metadata": {
        "id": "QuGE8-lsMt7P",
        "colab_type": "code",
        "colab": {}
      },
      "source": [
        "def sampling_func(data):\n",
        "    N = len(data)\n",
        "    sample_n=2 # 2개씩 뽑기\n",
        "    sample = data.take(np.random.permutation(N)[:sample_n])\n",
        "    return sample"
      ],
      "execution_count": 0,
      "outputs": []
    },
    {
      "cell_type": "code",
      "metadata": {
        "id": "4ko82-6gNgA6",
        "colab_type": "code",
        "colab": {}
      },
      "source": [
        "b=['열량 (kcal)','탄수화물 (g)','단백질 (g)','지방 (g)','당류 (g)','나트륨 (mg)','포화지방산 (g)','간식']\n",
        "c=pd.DataFrame(0,columns=b,index=[0])"
      ],
      "execution_count": 0,
      "outputs": []
    },
    {
      "cell_type": "code",
      "metadata": {
        "id": "FGpUbIGFNf9i",
        "colab_type": "code",
        "colab": {
          "base_uri": "https://localhost:8080/",
          "height": 125
        },
        "outputId": "06fdf570-a929-4d37-ed08-136f9bb4243e"
      },
      "source": [
        "for i in range(len(shickdan)):\n",
        "    a=sampling_func(ganshick)\n",
        "    a[\"idx\"]=i\n",
        "    b=a.groupby(\"idx\").sum()\n",
        "    b[\"간식\"]=\", \".join(a[\"식품이름\"])\n",
        "    c=pd.concat([c,b])"
      ],
      "execution_count": 12,
      "outputs": [
        {
          "output_type": "stream",
          "text": [
            "/usr/local/lib/python3.6/dist-packages/ipykernel_launcher.py:3: SettingWithCopyWarning: \n",
            "A value is trying to be set on a copy of a slice from a DataFrame.\n",
            "Try using .loc[row_indexer,col_indexer] = value instead\n",
            "\n",
            "See the caveats in the documentation: http://pandas.pydata.org/pandas-docs/stable/user_guide/indexing.html#returning-a-view-versus-a-copy\n",
            "  This is separate from the ipykernel package so we can avoid doing imports until\n"
          ],
          "name": "stderr"
        }
      ]
    },
    {
      "cell_type": "code",
      "metadata": {
        "id": "W8Cse9xuNf7j",
        "colab_type": "code",
        "colab": {}
      },
      "source": [
        "c=c.reset_index(drop=True)\n",
        "c=c.drop(0,axis=0)\n",
        "c=c.reset_index(drop=True)"
      ],
      "execution_count": 0,
      "outputs": []
    },
    {
      "cell_type": "code",
      "metadata": {
        "id": "BtIORQT7Nf4S",
        "colab_type": "code",
        "colab": {}
      },
      "source": [
        "a=pd.concat([shickdan,c],axis=1)\n",
        "a[\"총 열량(kcal)\"]=a[\"칼로리(Kcal)\"]+a[\"열량 (kcal)\"]\n",
        "a[\"총 탄수화물(g)\"]=a[\"탄수화물(g)\"]+a[\"탄수화물 (g)\"]\n",
        "a[\"총 단백질(g)\"]=a[\"단백질(g)\"]+a[\"단백질 (g)\"]\n",
        "a[\"총 지방(g)\"]=a[\"지방(g)\"]+a[\"지방 (g)\"]\n",
        "a=a[['num','식단', '간식','칼로리(Kcal)', '총 열량(kcal)', '총 탄수화물(g)', '총 단백질(g)', '총 지방(g)',\n",
        "     '비타민A(mg)', '티아민(mg)', '리보플라빈(mg)', '비타민C(mg)', '칼슘(mg)', '철분(mg)',\n",
        "     '당류 (g)', '나트륨 (mg)', '포화지방산 (g)', '1.난류', '2.우유', '3.메밀', '4.땅콩', '5.대두', '6.밀', '7.고등어', '8.게', '9.새우', '10.돼지고기', \n",
        "     '11.복숭아', '12.토마토', '13.아황산염', '14.호두', '15.닭고기', '16.쇠고기', '17.오징어', '18.조개류(굴,전복,홍합 등)']]"
      ],
      "execution_count": 0,
      "outputs": []
    },
    {
      "cell_type": "code",
      "metadata": {
        "id": "mDtsmxUsNf14",
        "colab_type": "code",
        "colab": {}
      },
      "source": [
        "a.to_csv(\"일주일 식단.csv\",encoding='utf-8-sig')"
      ],
      "execution_count": 0,
      "outputs": []
    },
    {
      "cell_type": "markdown",
      "metadata": {
        "id": "rZ9rcqYCNvkF",
        "colab_type": "text"
      },
      "source": [
        "## (7개 균형) 식단\n",
        "  영양소만 가져오기"
      ]
    },
    {
      "cell_type": "code",
      "metadata": {
        "id": "Ie1sVRPtNf0M",
        "colab_type": "code",
        "colab": {}
      },
      "source": [
        "def sampling_func(data):\n",
        "    N = len(data)\n",
        "    sample_n=7 # 7개씩 뽑기\n",
        "    sample = data.take(np.random.permutation(N)[:sample_n])\n",
        "    return sample"
      ],
      "execution_count": 0,
      "outputs": []
    },
    {
      "cell_type": "code",
      "metadata": {
        "id": "dDSxdFTScj5Z",
        "colab_type": "code",
        "colab": {}
      },
      "source": [
        "n=pd.DataFrame(0,columns=['칼로리(Kcal)','탄수화물(g)', '단백질(g)', '지방(g)', '비타민A(mg)', '티아민(mg)', '리보플라빈(mg)', '비타민C(mg)',\n",
        "       '칼슘(mg)', '철분(mg)'],index=range(1))"
      ],
      "execution_count": 0,
      "outputs": []
    },
    {
      "cell_type": "code",
      "metadata": {
        "id": "fMllXeF-ODF0",
        "colab_type": "code",
        "colab": {}
      },
      "source": [
        "for i in range(10000):\n",
        "  s=sampling_func(df1)\n",
        "  s.columns=['num','식단','칼로리(Kcal)','1.난류', '2.우유', '3.메밀', '4.땅콩', '5.대두', '6.밀',\n",
        "       '7.고등어', '8.게', '9.새우', '10.돼지고기', '11.복숭아', '12.토마토', '13.아황산염',\n",
        "       '14.호두', '15.닭고기', '16.쇠고기', '17.오징어', '18.조개류(굴,전복,홍합 등)', '탄수화물(g)',\n",
        "       '단백질(g)', '지방(g)', '비타민A(mg)', '티아민(mg)', '리보플라빈(mg)', '비타민C(mg)',\n",
        "       '칼슘(mg)', '철분(mg)']\n",
        "  s=s[['칼로리(Kcal)','탄수화물(g)', '단백질(g)', '지방(g)', '비타민A(mg)', '티아민(mg)', '리보플라빈(mg)', '비타민C(mg)',\n",
        "       '칼슘(mg)', '철분(mg)']]\n",
        "  s=s.sum().to_frame().T\n",
        "  n=pd.concat([n,s])"
      ],
      "execution_count": 0,
      "outputs": []
    },
    {
      "cell_type": "code",
      "metadata": {
        "id": "lDcyNHE0Mt_D",
        "colab_type": "code",
        "colab": {}
      },
      "source": [
        "n=n.reset_index(drop=True)\n",
        "n=n.iloc[1:,:]\n",
        "n=n.reset_index(drop=True)\n",
        "n.to_csv(\"7균형식단.csv\",encoding=\"utf-8-sig\")"
      ],
      "execution_count": 0,
      "outputs": []
    },
    {
      "cell_type": "markdown",
      "metadata": {
        "id": "bgOJBxgFd2GP",
        "colab_type": "text"
      },
      "source": [
        "## (5균, 2불균, 간식) 식단 합치기(한개의 row로) \n",
        "  영양소만 가져오기"
      ]
    },
    {
      "cell_type": "code",
      "metadata": {
        "id": "MRPQoftNd1b-",
        "colab_type": "code",
        "colab": {}
      },
      "source": [
        "a=pd.read_csv(\"일주일 식단.csv\",encoding='utf-8-sig',engine=\"python\",index_col=[0])"
      ],
      "execution_count": 0,
      "outputs": []
    },
    {
      "cell_type": "code",
      "metadata": {
        "id": "-Qbt7EZgeGEg",
        "colab_type": "code",
        "colab": {}
      },
      "source": [
        "a=a[['num', '총 열량(kcal)', '총 탄수화물(g)', '총 단백질(g)', '총 지방(g)', '비타민A(mg)',\n",
        "     '티아민(mg)', '리보플라빈(mg)', '비타민C(mg)', '칼슘(mg)','철분(mg)']]\n",
        "a.columns=['num', '칼로리(kcal)', '탄수화물(g)', '단백질(g)','지방(g)', '비타민A(mg)', \n",
        "           '티아민(mg)', '리보플라빈(mg)', '비타민C(mg)', '칼슘(mg)','철분(mg)']\n",
        "f=pd.DataFrame(0,columns=a.columns,index=[0])"
      ],
      "execution_count": 0,
      "outputs": []
    },
    {
      "cell_type": "code",
      "metadata": {
        "id": "2yWHMeBJeF-m",
        "colab_type": "code",
        "colab": {}
      },
      "source": [
        "for i in range(1,5002):\n",
        "  g=a[a['num']==i].iloc[:,1:].sum()\n",
        "  g=pd.DataFrame(g).T\n",
        "  g[\"num\"]=i\n",
        "  f=pd.concat([f,g])"
      ],
      "execution_count": 0,
      "outputs": []
    },
    {
      "cell_type": "code",
      "metadata": {
        "id": "zmnlrgiTeGBb",
        "colab_type": "code",
        "colab": {}
      },
      "source": [
        "f=f[['num', '칼로리(kcal)', '탄수화물(g)', '단백질(g)','지방(g)', '비타민A(mg)',\n",
        "     '티아민(mg)', '리보플라빈(mg)', '비타민C(mg)', '칼슘(mg)','철분(mg)']]\n",
        "f=f.reset_index(drop=True)\n",
        "f=f.iloc[1:,:]\n",
        "f=f.reset_index(drop=True)\n",
        "f.to_csv(\"fivetwo조합.csv\",encoding=\"utf-8-sig\")"
      ],
      "execution_count": 0,
      "outputs": []
    }
  ]
}