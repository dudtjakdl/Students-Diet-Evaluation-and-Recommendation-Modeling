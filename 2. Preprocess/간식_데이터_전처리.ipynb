{
 "cells": [
  {
   "cell_type": "code",
   "execution_count": 0,
   "metadata": {
    "colab": {},
    "colab_type": "code",
    "id": "cBlgiW5EBZaa"
   },
   "outputs": [],
   "source": [
    "import pandas as pd\n",
    "snack_data=pd.DataFrame(\"간식 데이터.csv\",encoding=\"utf-8-sig\",engine=\"python\",index_col=[0])"
   ]
  },
  {
   "cell_type": "code",
   "execution_count": 0,
   "metadata": {
    "colab": {},
    "colab_type": "code",
    "id": "ms38dj29BZar"
   },
   "outputs": [],
   "source": [
    "# 식품이름이 중복인 행 제거 (년도가 2017인 행을 남기기)\n",
    "snack_data = snack_data.drop_duplicates('식품이름', keep='last')"
   ]
  },
  {
   "cell_type": "code",
   "execution_count": 0,
   "metadata": {
    "colab": {},
    "colab_type": "code",
    "id": "PXT0jhYiBZa7"
   },
   "outputs": [],
   "source": [
    "# 식품이름이 중복인 행 제거 (년도가 2017인 행을 남기기)\n",
    "snack_data = snack_data.drop_duplicates('식품이름', keep='last')\n",
    "\n",
    "# 식품군이 '면류'인 행 중 식품이름에 '분유', '이유식'이 들어간 행 제거\n",
    "drop_list = []\n",
    "\n",
    "for i in range(len(snack_data)):\n",
    "    if snack_data.iloc[i, 1] == '면류':\n",
    "        if '분유' in snack_data.iloc[i, 2]:\n",
    "            drop_list.append(snack_data.index[i])\n",
    "        elif '이유식' in snack_data.iloc[i, 2]:\n",
    "            drop_list.append(snack_data.index[i])\n",
    "            \n",
    "snack_data.drop(drop_list, inplace = True)\n",
    "\n",
    "# NaN 값이 있는 행 제거\n",
    "snack_data.dropna(inplace = True)\n",
    "\n",
    "# 필요없는 열 지우기\n",
    "snack_data.drop(['번호','콜레스테롤 (mg)', '1회제공량 (g)', '트랜스지방산 (g)', '년도'], axis='columns', inplace=True)\n",
    "\n",
    "# index 순서 0부터 순서대로 초기화\n",
    "snack_data.reset_index(drop=True, inplace = True)\n",
    "\n",
    "# csv 파일로 저장\n",
    "snack_data.to_csv(\"간식 데이터 최종본.csv\", encoding = 'utf-8-sig')"
   ]
  },
  {
   "cell_type": "code",
   "execution_count": 0,
   "metadata": {
    "colab": {},
    "colab_type": "code",
    "id": "oEz4Vo6pBZbK"
   },
   "outputs": [],
   "source": [
    "# NaN 값이 있는 행 제거\n",
    "snack_data.dropna(inplace = True)"
   ]
  },
  {
   "cell_type": "code",
   "execution_count": 0,
   "metadata": {
    "colab": {},
    "colab_type": "code",
    "id": "1lLZ-5zlBZbX"
   },
   "outputs": [],
   "source": [
    "# 필요없는 열 지우기\n",
    "snack_data.drop(['번호','콜레스테롤 (mg)', '1회제공량 (g)', '트랜스지방산 (g)', '년도'], axis='columns', inplace=True)\n",
    "\n",
    "# index 순서 0부터 순서대로 초기화\n",
    "snack_data.reset_index(drop=True, inplace = True) "
   ]
  },
  {
   "cell_type": "code",
   "execution_count": 0,
   "metadata": {
    "colab": {},
    "colab_type": "code",
    "id": "pbkxe07lBZbh"
   },
   "outputs": [],
   "source": [
    "# csv 파일로 저장\n",
    "snack_data.to_csv(\"간식 데이터 최종본.csv\", encoding = 'utf-8-sig')"
   ]
  }
 ],
 "metadata": {
  "colab": {
   "collapsed_sections": [],
   "name": "간식 데이터 전처리.ipynb",
   "provenance": []
  },
  "kernelspec": {
   "display_name": "Python 3",
   "language": "python",
   "name": "python3"
  },
  "language_info": {
   "codemirror_mode": {
    "name": "ipython",
    "version": 3
   },
   "file_extension": ".py",
   "mimetype": "text/x-python",
   "name": "python",
   "nbconvert_exporter": "python",
   "pygments_lexer": "ipython3",
   "version": "3.7.1"
  }
 },
 "nbformat": 4,
 "nbformat_minor": 1
}
