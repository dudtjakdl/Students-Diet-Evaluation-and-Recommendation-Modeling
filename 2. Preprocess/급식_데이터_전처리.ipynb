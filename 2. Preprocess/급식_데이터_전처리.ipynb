{
  "nbformat": 4,
  "nbformat_minor": 0,
  "metadata": {
    "kernelspec": {
      "display_name": "Python 3",
      "language": "python",
      "name": "python3"
    },
    "language_info": {
      "codemirror_mode": {
        "name": "ipython",
        "version": 3
      },
      "file_extension": ".py",
      "mimetype": "text/x-python",
      "name": "python",
      "nbconvert_exporter": "python",
      "pygments_lexer": "ipython3",
      "version": "3.7.1"
    },
    "colab": {
      "name": "급식 데이터 전처리.ipynb",
      "provenance": [],
      "collapsed_sections": [],
      "toc_visible": true
    }
  },
  "cells": [
    {
      "cell_type": "code",
      "metadata": {
        "id": "fgbWLY5qPxQN",
        "colab_type": "code",
        "colab": {}
      },
      "source": [
        "import pandas as pd\n",
        "import numpy as np"
      ],
      "execution_count": 0,
      "outputs": []
    },
    {
      "cell_type": "code",
      "metadata": {
        "scrolled": true,
        "id": "Wyyf0uHtPxQT",
        "colab_type": "code",
        "colab": {}
      },
      "source": [
        "data = pd.read_csv(\"급식식단 데이터.csv\", encoding='utf-8-sig', engine=\"python\",index_col=[0])"
      ],
      "execution_count": 0,
      "outputs": []
    },
    {
      "cell_type": "markdown",
      "metadata": {
        "id": "1SoPVUHOPxQZ",
        "colab_type": "text"
      },
      "source": [
        "# 1. 알레르기 정보 컬럼으로 나누기"
      ]
    },
    {
      "cell_type": "code",
      "metadata": {
        "id": "hILOXSGsPxQb",
        "colab_type": "code",
        "colab": {}
      },
      "source": [
        "import re\n",
        "from tqdm import tqdm_notebook\n",
        "\n",
        "col_name = [str(i) for i in range(1,19)]\n",
        "\n",
        "for i in tqdm_notebook(range(len(data))):\n",
        "    s = data.loc[i,'요리명']\n",
        "    allergy = re.findall('\\d+', s) # 문자열에서 숫자만 빼오기\n",
        "    allergy = list(set(allergy)) # 리스트 값 중복 제거\n",
        "    for  num in col_name:\n",
        "        if num in allergy:\n",
        "            data.loc[i, num] = 1\n",
        "        else:\n",
        "            data.loc[i, num] = 0"
      ],
      "execution_count": 0,
      "outputs": []
    },
    {
      "cell_type": "code",
      "metadata": {
        "id": "Fl7VI8ZoPxQg",
        "colab_type": "code",
        "colab": {}
      },
      "source": [
        "data.rename(columns = {\"1\":\"1.난류\",\"2\":\"2.우유\",\"3\":\"3.메밀\",\"4\":\"4.땅콩\",\"5\":\"5.대두\",\"6\":\"6.밀\",\"7\":\"7.고등어\",\"8\":\"8.게\",\n",
        "                      \"9\":\"9.새우\",\"10\":\"10.돼지고기\",\"11\":\"11.복숭아\",\"12\":\"12.토마토\",\"13\":\"13.아황산염\",\"14\":\"14.호두\",\n",
        "                       \"15\":\"15.닭고기\",\"16\":\"16.쇠고기\",\"17\":\"17.오징어\",\"18\":\"18.조개류(굴,전복,홍합 등)\"}, inplace = True)"
      ],
      "execution_count": 0,
      "outputs": []
    },
    {
      "cell_type": "code",
      "metadata": {
        "id": "BCIUBF5GiYc4",
        "colab_type": "code",
        "colab": {}
      },
      "source": [
        "data.to_csv(\"foodAlle.csv\",encoding=\"utf-8-sig\")"
      ],
      "execution_count": 0,
      "outputs": []
    },
    {
      "cell_type": "code",
      "metadata": {
        "id": "GttMqmr-iDgZ",
        "colab_type": "code",
        "colab": {}
      },
      "source": [
        "data=pd.read_csv(\"foodAlle.csv\", encoding='utf-8-sig', engine=\"python\",index_col=[0])"
      ],
      "execution_count": 0,
      "outputs": []
    },
    {
      "cell_type": "markdown",
      "metadata": {
        "id": "St4pdNwvPxQl",
        "colab_type": "text"
      },
      "source": [
        "# 2. 요리 이름 문자열 변환"
      ]
    },
    {
      "cell_type": "code",
      "metadata": {
        "id": "UtGft36oPxQm",
        "colab_type": "code",
        "colab": {}
      },
      "source": [
        "import re\n",
        "l=[]\n",
        "for i in range(len(data[\"요리명\"])):\n",
        "    a=re.sub(\"\\d|\\.|-??|\\([^)]*\\)\",\"\",data[\"요리명\"][i])\n",
        "    a=a.replace(\"<br/>\",\",\").replace(\"*\",\"\").replace(\"★\",\"\").replace(\"#\",\"\").replace(\"!\",\"\").replace(\"^\",\"\")\n",
        "    a=a.replace(\"H\",\"\").replace(\"h\",\"\")\n",
        "    b=re.sub(r'\\([^)]*\\)', '', a)\n",
        "    b=b.replace(\"()\",\"\").replace(\"\\\\\",\"\").replace(\"@\",\"\").replace(\"*\",\"\").replace(\"^\",\"\")\n",
        "    l.append(b)\n",
        "data[\"요리 이름\"]=l"
      ],
      "execution_count": 0,
      "outputs": []
    },
    {
      "cell_type": "markdown",
      "metadata": {
        "id": "bNbK2tOjPxQr",
        "colab_type": "text"
      },
      "source": [
        "# 3-1. 영양정보 컬럼으로 각각 나눠서 저장(단위도 함계)"
      ]
    },
    {
      "cell_type": "code",
      "metadata": {
        "id": "a9FoDsodPxQt",
        "colab_type": "code",
        "colab": {}
      },
      "source": [
        "nutrient=['']*len(data)\n",
        "\n",
        "for n in data.index:\n",
        "    nutrient[n]=data['영양정보'][n]\n",
        "    nutrient[n]=nutrient[n].replace('탄수화물(g) :','').replace('단백질(g) :','').replace('지방(g) :','').replace('티아민(mg) :','').replace('비타민A(R.E) :','').replace('리보플라빈(mg) :','').replace('비타민C(mg) :','').replace('칼슘(mg) :','').replace('철분(mg) :','')"
      ],
      "execution_count": 0,
      "outputs": []
    },
    {
      "cell_type": "code",
      "metadata": {
        "id": "LNKUhMsLPxQy",
        "colab_type": "code",
        "colab": {}
      },
      "source": [
        "total=[]\n",
        "for i in range(len(nutrient)):\n",
        "    sen=nutrient[i]\n",
        "    total.append(sen.split('<br/>')) #<br/> 기준으로 나누기\n",
        "    \n",
        "for i in range(len(total)):\n",
        "    for j in range(len(total[0])):\n",
        "        total[i][j]=total[i][j].strip() #공백제거\n",
        "        total[i][j]=float(total[i][j]) #형변환 \n",
        "\n",
        "all_list=[[],[],[],[],[],[],[],[],[]]\n",
        "\n",
        "for i in range(len(total)):\n",
        "    for j in range(9):\n",
        "        all_list[j].append(total[i][j])"
      ],
      "execution_count": 0,
      "outputs": []
    },
    {
      "cell_type": "code",
      "metadata": {
        "id": "wMTzbMHnPxQ2",
        "colab_type": "code",
        "colab": {}
      },
      "source": [
        "#딕셔너리 형태로 저장 \n",
        "nutrient_split={'탄수화물(g)':all_list[0],'단백질(g)':all_list[1],'지방(g)':all_list[2],'비타민A(mg)':all_list[3],'티아민(mg)':all_list[4],'리보플라빈(mg)':all_list[5],'비타민C(mg)':all_list[6],'칼슘(mg)':all_list[7],'철분(mg)':all_list[8]}"
      ],
      "execution_count": 0,
      "outputs": []
    },
    {
      "cell_type": "code",
      "metadata": {
        "id": "o94FI9NHPxQ7",
        "colab_type": "code",
        "colab": {}
      },
      "source": [
        "data2=pd.DataFrame(nutrient_split)\n",
        "\n",
        "#중복정보 삭제\n",
        "data=data.drop(columns=['영양정보'])\n",
        "\n",
        "#data 합치기 \n",
        "result=pd.concat([data,data2],axis=1)"
      ],
      "execution_count": 0,
      "outputs": []
    },
    {
      "cell_type": "markdown",
      "metadata": {
        "id": "cTUUyuJlPxQ_",
        "colab_type": "text"
      },
      "source": [
        "# 3-2. 칼로리 단위 제거, 칼럼에 단위 포함"
      ]
    },
    {
      "cell_type": "code",
      "metadata": {
        "id": "3H09qmpEPxRA",
        "colab_type": "code",
        "colab": {}
      },
      "source": [
        "cal=[]\n",
        "for i in range(len(result[\"칼로리정보\"])):\n",
        "    cal.append(float(result[\"칼로리정보\"][i].split(\" \")[0]))\n",
        "result[\"칼로리(Kcal)\"]=cal"
      ],
      "execution_count": 0,
      "outputs": []
    },
    {
      "cell_type": "code",
      "metadata": {
        "id": "870cx7qTPxRF",
        "colab_type": "code",
        "colab": {}
      },
      "source": [
        "result=result.drop(columns=[\"요리명\",\"칼로리정보\"])"
      ],
      "execution_count": 0,
      "outputs": []
    },
    {
      "cell_type": "code",
      "metadata": {
        "id": "2s_crDXfPxRJ",
        "colab_type": "code",
        "colab": {}
      },
      "source": [
        "# 열의 순서 바꾸기\n",
        "result=result[['학교명', '식사코드', '식사명', '급식일자','요리 이름', '칼로리(Kcal)' ,'1.난류', '2.우유', '3.메밀',\n",
        "               '4.땅콩', '5.대두','6.밀', '7.고등어', '8.게', '9.새우', '10.돼지고기', '11.복숭아', '12.토마토', '13.아황산염',\n",
        "       '14.호두', '15.닭고기', '16.쇠고기', '17.오징어', '18.조개류(굴,전복,홍합 등)', '탄수화물(g)',\n",
        "       '단백질(g)', '지방(g)', '비타민A(mg)', '티아민(mg)', '리보플라빈(mg)', '비타민C(mg)',\n",
        "       '칼슘(mg)', '철분(mg)']]"
      ],
      "execution_count": 0,
      "outputs": []
    },
    {
      "cell_type": "markdown",
      "metadata": {
        "id": "pIIbcriyPxRN",
        "colab_type": "text"
      },
      "source": [
        "# 4-1. 조식, 중식, 석식 모두 있는 고등학교 찾기"
      ]
    },
    {
      "cell_type": "code",
      "metadata": {
        "id": "jPjfHGOZPxRO",
        "colab_type": "code",
        "colab": {}
      },
      "source": [
        "#중복된 학교명들 받아오기\n",
        "school=['']*len(result)\n",
        "\n",
        "for n in result.index:\n",
        "    school[n]=result['학교명'][n]\n",
        "    \n",
        "# 중복된 식사명들 받아오기\n",
        "eat_time=['']*len(result)\n",
        "\n",
        "for n in result.index:\n",
        "    eat_time[n]=result['식사명'][n]"
      ],
      "execution_count": 0,
      "outputs": []
    },
    {
      "cell_type": "code",
      "metadata": {
        "id": "GmqyDzNBPxRR",
        "colab_type": "code",
        "colab": {}
      },
      "source": [
        "#조식인 index추출\n",
        "one_time=[]\n",
        "for i in range(len(eat_time)):\n",
        "    if '조식' in eat_time[i]:\n",
        "        one_time.append(i) \n",
        "        \n",
        "# 조식을 먹는 학교만 찾아낸다. 이름이 중복\n",
        "one_eat=[]\n",
        "for i in range(len(one_time)):\n",
        "    one_eat.append(school[one_time[i]])\n",
        "    \n",
        "# 학교이름 중복 없애기\n",
        "one_eat_unique=[]\n",
        "\n",
        "for i in one_eat:\n",
        "    if i not in one_eat_unique:\n",
        "        one_eat_unique.append(i)\n",
        "\n",
        "#중식도 동일하게 \n",
        "two_time=[]\n",
        "\n",
        "for i in range(len(eat_time)):\n",
        "    if '중식' in eat_time[i]:\n",
        "        two_time.append(i)\n",
        "        \n",
        "# 중식을 먹는 학교만 찾아낸다.\n",
        "two_eat=[]\n",
        "for i in range(len(two_time)):\n",
        "    two_eat.append(school[two_time[i]])\n",
        "    \n",
        "two_eat_unique=[]\n",
        "\n",
        "for i in two_eat:\n",
        "    if i not in two_eat_unique:\n",
        "        two_eat_unique.append(i)\n",
        "\n",
        "#석식\n",
        "three_time=[]\n",
        "for i in range(len(eat_time)):\n",
        "    if '석식' in eat_time[i]:\n",
        "        three_time.append(i)\n",
        "        \n",
        "# 석식을 먹는 학교만 찾아낸다.\n",
        "three_eat=[]\n",
        "for i in range(len(three_time)):\n",
        "    three_eat.append(school[three_time[i]])\n",
        "    \n",
        "three_eat_unique=[]\n",
        "\n",
        "for i in three_eat:\n",
        "    if i not in three_eat_unique:\n",
        "        three_eat_unique.append(i)"
      ],
      "execution_count": 0,
      "outputs": []
    },
    {
      "cell_type": "code",
      "metadata": {
        "id": "6ljUH9JVPxRV",
        "colab_type": "code",
        "colab": {}
      },
      "source": [
        "#조식 중식 석식 다 먹는 학교만 골라내기\n",
        "all_eat=[]\n",
        "for i in one_eat_unique:\n",
        "    if i in two_eat_unique and three_eat_unique:\n",
        "        all_eat.append(i)"
      ],
      "execution_count": 0,
      "outputs": []
    },
    {
      "cell_type": "code",
      "metadata": {
        "id": "lywtivNoPxRZ",
        "colab_type": "code",
        "colab": {}
      },
      "source": [
        "dic={'삼시세끼':all_eat}\n",
        "df=pd.DataFrame(dic)"
      ],
      "execution_count": 0,
      "outputs": []
    },
    {
      "cell_type": "code",
      "metadata": {
        "scrolled": true,
        "id": "M9ojExW9PxRd",
        "colab_type": "code",
        "colab": {}
      },
      "source": [
        "df.to_csv(\"삼식고등학교.csv\",encoding='utf-8-sig')"
      ],
      "execution_count": 0,
      "outputs": []
    },
    {
      "cell_type": "markdown",
      "metadata": {
        "id": "ecxxPGELPxRg",
        "colab_type": "text"
      },
      "source": [
        "# 4-2. 삼식이"
      ]
    },
    {
      "cell_type": "code",
      "metadata": {
        "id": "uRxdp5l5PxRh",
        "colab_type": "code",
        "colab": {}
      },
      "source": [
        "df=pd.read_csv(\"삼식고등학교.csv\",encoding='utf-8-sig',index_col=[0],  engine='python')"
      ],
      "execution_count": 0,
      "outputs": []
    },
    {
      "cell_type": "code",
      "metadata": {
        "scrolled": true,
        "id": "RFQTv1vSPxRl",
        "colab_type": "code",
        "colab": {}
      },
      "source": [
        "row=[]\n",
        "for i in range(len(df)):\n",
        "    for j in range(len(result)):\n",
        "        if result.iloc[j,0]==df.iloc[i,0]:\n",
        "            row.append(result.loc[j].tolist())"
      ],
      "execution_count": 0,
      "outputs": []
    },
    {
      "cell_type": "code",
      "metadata": {
        "id": "XHBZ1Uw8PxRt",
        "colab_type": "code",
        "colab": {}
      },
      "source": [
        "d=pd.DataFrame(row,columns=result.columns)"
      ],
      "execution_count": 0,
      "outputs": []
    },
    {
      "cell_type": "code",
      "metadata": {
        "scrolled": true,
        "id": "bBQDclb9PxR3",
        "colab_type": "code",
        "colab": {}
      },
      "source": [
        "# 열 순서 바꾸기\n",
        "d2=d[['학교명', '급식일자','식사코드','요리 이름', '칼로리(Kcal)',  '1.난류', '2.우유', '3.메밀',\n",
        "       '4.땅콩', '5.대두', '6.밀', '7.고등어', '8.게', '9.새우', '10.돼지고기', '11.복숭아',\n",
        "       '12.토마토', '13.아황산염', '14.호두', '15.닭고기', '16.쇠고기', '17.오징어',\n",
        "       '18.조개류(굴,전복,홍합 등)', '탄수화물(g)', '단백질(g)', '지방(g)', '비타민A(mg)',\n",
        "       '티아민(mg)', '리보플라빈(mg)', '비타민C(mg)', '칼슘(mg)', '철분(mg)' ]]"
      ],
      "execution_count": 0,
      "outputs": []
    },
    {
      "cell_type": "code",
      "metadata": {
        "id": "OAsXBgVnPxR6",
        "colab_type": "code",
        "colab": {}
      },
      "source": [
        "# type 바꾸기\n",
        "d2=d2.astype({'급식일자':int,'식사코드':int, '칼로리(Kcal)':np.float, '탄수화물(g)':np.float, '단백질(g)':np.float, '지방(g)':np.float,\n",
        "              '비타민A(mg)':np.float, '티아민(mg)':np.float, '리보플라빈(mg)':np.float, '비타민C(mg)':np.float, '칼슘(mg)':np.float,\n",
        "              '철분(mg)':np.float,'1.난류':np.float, '2.우유':np.float, '3.메밀':np.float, '4.땅콩':np.float, '5.대두':np.float,\n",
        "              '6.밀':np.float, '7.고등어':np.float, '8.게':np.float, '9.새우':np.float, '10.돼지고기':np.float, '11.복숭아':np.float,\n",
        "              '12.토마토':np.float, '13.아황산염':np.float, '14.호두':np.float, '15.닭고기':np.float, '16.쇠고기':np.float, '17.오징어':np.float,\n",
        "              '18.조개류(굴,전복,홍합 등)':np.float})\n",
        "\n",
        "nd=pd.DataFrame(0,columns=['급식일자', '식사코드', '칼로리(Kcal)',  '1.난류', '2.우유', '3.메밀','4.땅콩', '5.대두',\n",
        "                           '6.밀', '7.고등어', '8.게', '9.새우', '10.돼지고기', '11.복숭아', '12.토마토', '13.아황산염', \n",
        "                           '14.호두', '15.닭고기', '16.쇠고기', '17.오징어', '18.조개류(굴,전복,홍합 등)', '탄수화물(g)', \n",
        "                           '단백질(g)', '지방(g)', '비타민A(mg)', '티아민(mg)', '리보플라빈(mg)', '비타민C(mg)', \n",
        "                           '칼슘(mg)', '철분(mg)', '식단'],index=range(1))"
      ],
      "execution_count": 0,
      "outputs": []
    },
    {
      "cell_type": "code",
      "metadata": {
        "id": "upKSZzOhPxR9",
        "colab_type": "code",
        "colab": {}
      },
      "source": [
        "for hn in df[\"삼시세끼\"]:\n",
        "    s=d2[d2[\"학교명\"]==hn]\n",
        "    \n",
        "    # 요리명 제외하고 나머지 열 더하기\n",
        "    s2=s[['급식일자', '식사코드', '칼로리(Kcal)',  '1.난류', '2.우유', '3.메밀','4.땅콩', '5.대두',\n",
        "          '6.밀', '7.고등어', '8.게', '9.새우', '10.돼지고기', '11.복숭아', '12.토마토', '13.아황산염', \n",
        "          '14.호두', '15.닭고기', '16.쇠고기', '17.오징어', '18.조개류(굴,전복,홍합 등)', '탄수화물(g)', \n",
        "          '단백질(g)', '지방(g)', '비타민A(mg)', '티아민(mg)', '리보플라빈(mg)', '비타민C(mg)', \n",
        "          '칼슘(mg)', '철분(mg)']]\n",
        "    \n",
        "    group=s2.groupby(s2[\"급식일자\"]).sum()\n",
        "    row2=[]\n",
        "    idx=[]\n",
        "    for i in range(len(group)):\n",
        "        if group.iloc[i,0]==6:\n",
        "            idx.append(group.index[i])\n",
        "            row2.append(group.iloc[i].tolist())\n",
        "    \n",
        "    group2=pd.DataFrame(row2,columns=group.columns,index=idx)\n",
        "\n",
        "    \n",
        "    # 요리명 합치기\n",
        "    totaln=[]\n",
        "    for j in range(len(idx)):\n",
        "        n=[]\n",
        "        for k in range(3):\n",
        "            n.append(s[s2[\"급식일자\"]==idx[j]].iloc[k,3])\n",
        "        totaln.append(\"//\".join(n))\n",
        "    \n",
        "    # 학교와 요리명, 그외의 정보 합치기\n",
        "    g=group2.reset_index()   \n",
        "    g[\"식단\"]=totaln\n",
        "    \n",
        "    # index를 급식일자로 바꾸기\n",
        "    g.rename(columns= {\"index\": \"급식일자\"}, inplace = True) \n",
        "    nd=pd.concat([nd,g])"
      ],
      "execution_count": 0,
      "outputs": []
    },
    {
      "cell_type": "code",
      "metadata": {
        "id": "ayoTnGWbPxSA",
        "colab_type": "code",
        "colab": {}
      },
      "source": [
        "nd=nd.reset_index(drop=True)\n",
        "# 열 순서 바꾸기\n",
        "nd=nd[['식단', '칼로리(Kcal)', '1.난류', '2.우유', '3.메밀', '4.땅콩', '5.대두',\n",
        "       '6.밀', '7.고등어', '8.게', '9.새우', '10.돼지고기', '11.복숭아', '12.토마토', '13.아황산염',\n",
        "       '14.호두', '15.닭고기', '16.쇠고기', '17.오징어', '18.조개류(굴,전복,홍합 등)', '탄수화물(g)',\n",
        "       '단백질(g)', '지방(g)', '비타민A(mg)', '티아민(mg)', '리보플라빈(mg)', '비타민C(mg)',\n",
        "       '칼슘(mg)', '철분(mg)']]\n",
        "nd=nd[1:]"
      ],
      "execution_count": 0,
      "outputs": []
    },
    {
      "cell_type": "code",
      "metadata": {
        "id": "zIZzsrBaPxSE",
        "colab_type": "code",
        "colab": {}
      },
      "source": [
        "nd.to_csv(\"삼식이.csv\",encoding='utf-8-sig')"
      ],
      "execution_count": 0,
      "outputs": []
    },
    {
      "cell_type": "markdown",
      "metadata": {
        "id": "WVtEh8pDPxSG",
        "colab_type": "text"
      },
      "source": [
        "# 4-3. 일이식이"
      ]
    },
    {
      "cell_type": "code",
      "metadata": {
        "id": "C_bJhhcGPxSH",
        "colab_type": "code",
        "colab": {}
      },
      "source": [
        "#중복된 학교명들 받아오기\n",
        "schoolname=result[\"학교명\"].unique().tolist()\n",
        "threeschool=df[\"삼시세끼\"].tolist()\n",
        "onetwo=[]\n",
        "for i in range(len(schoolname)):\n",
        "    if schoolname[i] not in threeschool:\n",
        "        onetwo.append(schoolname[i]) "
      ],
      "execution_count": 0,
      "outputs": []
    },
    {
      "cell_type": "code",
      "metadata": {
        "id": "XCSl3ZVGPxSK",
        "colab_type": "code",
        "colab": {}
      },
      "source": [
        "row2=[]\n",
        "for j in range(len(result)):\n",
        "    if result.iloc[j,0] in onetwo:\n",
        "        row2.append(result.loc[j].tolist())"
      ],
      "execution_count": 0,
      "outputs": []
    },
    {
      "cell_type": "code",
      "metadata": {
        "id": "-MhYTAicPxSN",
        "colab_type": "code",
        "colab": {}
      },
      "source": [
        "d3=pd.DataFrame(row2,columns=result.columns)"
      ],
      "execution_count": 0,
      "outputs": []
    },
    {
      "cell_type": "code",
      "metadata": {
        "id": "Tok4-Kv0PxSQ",
        "colab_type": "code",
        "colab": {}
      },
      "source": [
        "# 열 순서 바꾸기\n",
        "d4=d3[['학교명', '급식일자','식사코드','요리 이름', '칼로리(Kcal)',  '1.난류', '2.우유', '3.메밀',\n",
        "       '4.땅콩', '5.대두', '6.밀', '7.고등어', '8.게', '9.새우', '10.돼지고기', '11.복숭아',\n",
        "       '12.토마토', '13.아황산염', '14.호두', '15.닭고기', '16.쇠고기', '17.오징어',\n",
        "       '18.조개류(굴,전복,홍합 등)', '탄수화물(g)', '단백질(g)', '지방(g)', '비타민A(mg)',\n",
        "       '티아민(mg)', '리보플라빈(mg)', '비타민C(mg)', '칼슘(mg)', '철분(mg)' ]]"
      ],
      "execution_count": 0,
      "outputs": []
    },
    {
      "cell_type": "code",
      "metadata": {
        "id": "FY1BWs5qPxSV",
        "colab_type": "code",
        "colab": {}
      },
      "source": [
        "# type 바꾸기\n",
        "d4=d4.astype({'급식일자':int,'식사코드':int, '칼로리(Kcal)':np.float, '탄수화물(g)':np.float, '단백질(g)':np.float, '지방(g)':np.float,\n",
        "              '비타민A(mg)':np.float, '티아민(mg)':np.float, '리보플라빈(mg)':np.float, '비타민C(mg)':np.float, '칼슘(mg)':np.float,\n",
        "              '철분(mg)':np.float,'1.난류':np.float, '2.우유':np.float, '3.메밀':np.float, '4.땅콩':np.float, '5.대두':np.float,\n",
        "              '6.밀':np.float, '7.고등어':np.float, '8.게':np.float, '9.새우':np.float, '10.돼지고기':np.float, '11.복숭아':np.float,\n",
        "              '12.토마토':np.float, '13.아황산염':np.float, '14.호두':np.float, '15.닭고기':np.float, '16.쇠고기':np.float, '17.오징어':np.float,\n",
        "              '18.조개류(굴,전복,홍합 등)':np.float})\n",
        "\n",
        "nd2=pd.DataFrame(0,columns=['급식일자', '식사코드', '칼로리(Kcal)',  '1.난류', '2.우유', '3.메밀','4.땅콩', '5.대두',\n",
        "                           '6.밀', '7.고등어', '8.게', '9.새우', '10.돼지고기', '11.복숭아', '12.토마토', '13.아황산염', \n",
        "                           '14.호두', '15.닭고기', '16.쇠고기', '17.오징어', '18.조개류(굴,전복,홍합 등)', '탄수화물(g)', \n",
        "                           '단백질(g)', '지방(g)', '비타민A(mg)', '티아민(mg)', '리보플라빈(mg)', '비타민C(mg)', \n",
        "                           '칼슘(mg)', '철분(mg)', '식단'],index=range(1))\n",
        "nd3=pd.DataFrame(0,columns=['급식일자', '식사코드', '칼로리(Kcal)',  '1.난류', '2.우유', '3.메밀','4.땅콩', '5.대두',\n",
        "                           '6.밀', '7.고등어', '8.게', '9.새우', '10.돼지고기', '11.복숭아', '12.토마토', '13.아황산염', \n",
        "                           '14.호두', '15.닭고기', '16.쇠고기', '17.오징어', '18.조개류(굴,전복,홍합 등)', '탄수화물(g)', \n",
        "                           '단백질(g)', '지방(g)', '비타민A(mg)', '티아민(mg)', '리보플라빈(mg)', '비타민C(mg)', \n",
        "                           '칼슘(mg)', '철분(mg)', '식단'],index=range(1))"
      ],
      "execution_count": 0,
      "outputs": []
    },
    {
      "cell_type": "markdown",
      "metadata": {
        "id": "oQBZradVPxSa",
        "colab_type": "text"
      },
      "source": [
        "삼식고등학교 이외의 고등학교"
      ]
    },
    {
      "cell_type": "code",
      "metadata": {
        "id": "WVzPRHi1PxSb",
        "colab_type": "code",
        "colab": {}
      },
      "source": [
        "for hn in onetwo:\n",
        "    s=d4[d4[\"학교명\"]==hn]\n",
        "    \n",
        "    # 요리명 제외하고 나머지 열 더하기\n",
        "    s2=s[['급식일자', '식사코드', '칼로리(Kcal)',  '1.난류', '2.우유', '3.메밀','4.땅콩', '5.대두',\n",
        "          '6.밀', '7.고등어', '8.게', '9.새우', '10.돼지고기', '11.복숭아', '12.토마토', '13.아황산염', \n",
        "          '14.호두', '15.닭고기', '16.쇠고기', '17.오징어', '18.조개류(굴,전복,홍합 등)', '탄수화물(g)', \n",
        "          '단백질(g)', '지방(g)', '비타민A(mg)', '티아민(mg)', '리보플라빈(mg)', '비타민C(mg)', \n",
        "          '칼슘(mg)', '철분(mg)']]\n",
        "    \n",
        "    group=s2.groupby(s2[\"급식일자\"]).sum()\n",
        "    row4=[]\n",
        "    idx=[]\n",
        "    for i in range(len(group)):\n",
        "        idx.append(group.index[i]) # 날짜\n",
        "        row4.append(group.iloc[i].tolist())\n",
        "    \n",
        "    group2=pd.DataFrame(row4,columns=group.columns,index=idx)\n",
        "    \n",
        "    # 요리명 합치기\n",
        "    totaln=[]\n",
        "    for j in range(len(idx)):\n",
        "        n=[]\n",
        "        b=s[s2[\"급식일자\"]==idx[j]]\n",
        "        for k in range(len(b)):\n",
        "            n.append(b.iloc[k,3])\n",
        "        totaln.append(\"//\".join(n))\n",
        "    \n",
        "    # 학교와 요리명, 그외의 정보 합치기\n",
        "    g=group2.reset_index()   \n",
        "    g[\"식단\"]=totaln\n",
        "    \n",
        "    # index를 급식일자로 바꾸기\n",
        "    g.rename(columns= {\"index\": \"급식일자\"}, inplace = True) \n",
        "    nd2=pd.concat([nd2,g])"
      ],
      "execution_count": 0,
      "outputs": []
    },
    {
      "cell_type": "markdown",
      "metadata": {
        "id": "vqlgytaGPxSd",
        "colab_type": "text"
      },
      "source": [
        "삼식고등학교에서 삼식이 아닌 것"
      ]
    },
    {
      "cell_type": "code",
      "metadata": {
        "id": "YHAfPjBuPxSe",
        "colab_type": "code",
        "colab": {}
      },
      "source": [
        "for hn in df[\"삼시세끼\"]:\n",
        "    s=d2[d2[\"학교명\"]==hn]\n",
        "    \n",
        "    # 요리명 제외하고 나머지 열 더하기\n",
        "    s2=s[['급식일자', '식사코드', '칼로리(Kcal)',  '1.난류', '2.우유', '3.메밀','4.땅콩', '5.대두',\n",
        "          '6.밀', '7.고등어', '8.게', '9.새우', '10.돼지고기', '11.복숭아', '12.토마토', '13.아황산염', \n",
        "          '14.호두', '15.닭고기', '16.쇠고기', '17.오징어', '18.조개류(굴,전복,홍합 등)', '탄수화물(g)', \n",
        "          '단백질(g)', '지방(g)', '비타민A(mg)', '티아민(mg)', '리보플라빈(mg)', '비타민C(mg)', \n",
        "          '칼슘(mg)', '철분(mg)']]\n",
        "    \n",
        "    group=s2.groupby(s2[\"급식일자\"]).sum()\n",
        "    row2=[]\n",
        "    idx=[]\n",
        "    for i in range(len(group)):\n",
        "        if group.iloc[i,0]!=6:\n",
        "            idx.append(group.index[i])\n",
        "            row2.append(group.iloc[i].tolist())\n",
        "    \n",
        "    group2=pd.DataFrame(row2,columns=group.columns,index=idx)\n",
        "\n",
        "    # 요리명 합치기\n",
        "    totaln2=[]\n",
        "    for j in range(len(idx)):\n",
        "        n=[]\n",
        "        b=s[s2[\"급식일자\"]==idx[j]]\n",
        "        for k in range(len(b)):\n",
        "            n.append(b.iloc[k,3])\n",
        "        totaln2.append(\"//\".join(n))\n",
        "    \n",
        "    # 학교와 요리명, 그외의 정보 합치기\n",
        "    g=group2.reset_index()   \n",
        "    g[\"식단\"]=totaln2\n",
        "    \n",
        "    # index를 급식일자로 바꾸기\n",
        "    g.rename(columns= {\"index\": \"급식일자\"}, inplace = True) \n",
        "    nd3=pd.concat([nd3,g])"
      ],
      "execution_count": 0,
      "outputs": []
    },
    {
      "cell_type": "code",
      "metadata": {
        "id": "ZEP5t4KEPxSg",
        "colab_type": "code",
        "colab": {}
      },
      "source": [
        "nd2=nd2.reset_index(drop=True)\n",
        "nd3=nd3.reset_index(drop=True)"
      ],
      "execution_count": 0,
      "outputs": []
    },
    {
      "cell_type": "code",
      "metadata": {
        "id": "fzcnfQ8LPxSi",
        "colab_type": "code",
        "colab": {}
      },
      "source": [
        "# 열 순서 바꾸기\n",
        "nd2=nd2[['식단', '칼로리(Kcal)', '1.난류', '2.우유', '3.메밀', '4.땅콩', '5.대두',\n",
        "       '6.밀', '7.고등어', '8.게', '9.새우', '10.돼지고기', '11.복숭아', '12.토마토', '13.아황산염',\n",
        "       '14.호두', '15.닭고기', '16.쇠고기', '17.오징어', '18.조개류(굴,전복,홍합 등)', '탄수화물(g)',\n",
        "       '단백질(g)', '지방(g)', '비타민A(mg)', '티아민(mg)', '리보플라빈(mg)', '비타민C(mg)',\n",
        "       '칼슘(mg)', '철분(mg)']]\n",
        "nd2=nd2[1:] # 1행 삭제\n",
        "# 열 순서 바꾸기\n",
        "nd3=nd3[['식단', '칼로리(Kcal)', '1.난류', '2.우유', '3.메밀', '4.땅콩', '5.대두',\n",
        "       '6.밀', '7.고등어', '8.게', '9.새우', '10.돼지고기', '11.복숭아', '12.토마토', '13.아황산염',\n",
        "       '14.호두', '15.닭고기', '16.쇠고기', '17.오징어', '18.조개류(굴,전복,홍합 등)', '탄수화물(g)',\n",
        "       '단백질(g)', '지방(g)', '비타민A(mg)', '티아민(mg)', '리보플라빈(mg)', '비타민C(mg)',\n",
        "       '칼슘(mg)', '철분(mg)']]\n",
        "nd3=nd3[1:] # 1행 삭제"
      ],
      "execution_count": 0,
      "outputs": []
    },
    {
      "cell_type": "code",
      "metadata": {
        "id": "In96C5ctPxSl",
        "colab_type": "code",
        "colab": {}
      },
      "source": [
        "nd4=pd.concat([nd2,nd3])\n",
        "nd4=nd4.reset_index(drop=True)\n",
        "nd4.to_csv(\"일이식이.csv\",encoding='utf-8-sig')"
      ],
      "execution_count": 0,
      "outputs": []
    }
  ]
}