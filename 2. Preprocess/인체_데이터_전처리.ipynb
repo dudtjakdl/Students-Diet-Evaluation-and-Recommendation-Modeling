{
  "nbformat": 4,
  "nbformat_minor": 0,
  "metadata": {
    "kernelspec": {
      "display_name": "Python 3",
      "language": "python",
      "name": "python3"
    },
    "language_info": {
      "codemirror_mode": {
        "name": "ipython",
        "version": 3
      },
      "file_extension": ".py",
      "mimetype": "text/x-python",
      "name": "python",
      "nbconvert_exporter": "python",
      "pygments_lexer": "ipython3",
      "version": "3.7.1"
    },
    "colab": {
      "name": "인체 데이터 전처리.ipynb",
      "provenance": []
    }
  },
  "cells": [
    {
      "cell_type": "code",
      "metadata": {
        "id": "FAWOdOF6De5Y",
        "colab_type": "code",
        "colab": {}
      },
      "source": [
        "import pandas as pd\n",
        "\n",
        "data = pd.read_csv(\"청소년 인체치수+하루권장량.csv\", encoding = 'cp949')"
      ],
      "execution_count": 0,
      "outputs": []
    },
    {
      "cell_type": "code",
      "metadata": {
        "id": "9lcCCNWjDe5p",
        "colab_type": "code",
        "colab": {}
      },
      "source": [
        "for i in range(len(data)):\n",
        "    \n",
        "    if data.loc[i, '성별'] == 1: # 남자\n",
        "        if data.loc[i, '나이'] == 17 or data.loc[i, '나이'] == 18: # 17, 18세\n",
        "            data.loc[i, '비타민A'] = 850\n",
        "            data.loc[i, '티아민'] = 1.3\n",
        "            data.loc[i, '리보플라빈'] = 1.7\n",
        "            data.loc[i, '비타민C'] = 110\n",
        "            data.loc[i, '칼슘'] = 900\n",
        "            data.loc[i, '철분'] = 15\n",
        "        else: # 19세\n",
        "            data.loc[i, '비타민A'] = 750\n",
        "            data.loc[i, '티아민'] = 1.2\n",
        "            data.loc[i, '리보플라빈'] = 1.5\n",
        "            data.loc[i, '비타민C'] = 100\n",
        "            data.loc[i, '칼슘'] = 750\n",
        "            data.loc[i, '철분'] = 10\n",
        "    else: # 여자\n",
        "        if data.loc[i, '나이'] == 17 or data.loc[i, '나이'] == 18: # 17, 18세\n",
        "            data.loc[i, '비타민A'] = 600\n",
        "            data.loc[i, '티아민'] = 1.0\n",
        "            data.loc[i, '리보플라빈'] = 1.2\n",
        "            data.loc[i, '비타민C'] = 100\n",
        "            data.loc[i, '칼슘'] = 900\n",
        "            data.loc[i, '철분'] = 17\n",
        "        else: # 19세\n",
        "            data.loc[i, '비타민A'] = 650\n",
        "            data.loc[i, '티아민'] = 1.1\n",
        "            data.loc[i, '리보플라빈'] = 1.2\n",
        "            data.loc[i, '비타민C'] = 100\n",
        "            data.loc[i, '칼슘'] = 750\n",
        "            data.loc[i, '철분'] = 14    "
      ],
      "execution_count": 0,
      "outputs": []
    },
    {
      "cell_type": "code",
      "metadata": {
        "id": "Y-u9Z9_YDe5w",
        "colab_type": "code",
        "colab": {}
      },
      "source": [
        "import random\n",
        "import numpy as np\n",
        "\n",
        "allergy = [str(i) for i in range(1,19)]\n",
        "\n",
        "for i in range(len(data)):\n",
        "    \n",
        "    prob = random.random()\n",
        "    \n",
        "    if prob <= 0.8: # 80%의 확률로 알레르기값 없음\n",
        "        data.loc[i, '알레르기'] = np.nan\n",
        "    elif 0.8 < prob and prob <= 0.95: # 15%의 확률로 알레르기값 1개 있음\n",
        "        data.loc[i, '알레르기'] = random.choice(allergy)\n",
        "    else: # 5%의 확률로 알레르기값 2개 있음\n",
        "        value = random.sample(allergy, 2)\n",
        "        data.loc[i, '알레르기'] = str(value[0])+\",\"+str(value[1])\n"
      ],
      "execution_count": 0,
      "outputs": []
    },
    {
      "cell_type": "code",
      "metadata": {
        "id": "EdzKB7d8De52",
        "colab_type": "code",
        "colab": {}
      },
      "source": [
        "data.to_csv(\"인체치수 최종본.csv\", encoding = 'utf-8-sig')"
      ],
      "execution_count": 0,
      "outputs": []
    }
  ]
}